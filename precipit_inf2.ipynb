{
 "cells": [
  {
   "cell_type": "code",
   "execution_count": 35,
   "metadata": {},
   "outputs": [],
   "source": [
    "import pandas as pd\n",
    "import os"
   ]
  },
  {
   "cell_type": "code",
   "execution_count": 36,
   "metadata": {},
   "outputs": [],
   "source": [
    "catastro = pd.read_csv('CatastroEstaciones.csv' , parse_dates=['Fecha Creacion'], dayfirst=True)"
   ]
  },
  {
   "cell_type": "markdown",
   "metadata": {},
   "source": [
    "Cambiar la región de los datos a mano. Lo ideal, en este caso, sería automatizar para todas las regiones en un una sola ejecución."
   ]
  },
  {
   "cell_type": "code",
   "execution_count": 37,
   "metadata": {},
   "outputs": [
    {
     "name": "stdout",
     "output_type": "stream",
     "text": [
      "Del Biobio\n"
     ]
    }
   ],
   "source": [
    "regiones = ['Arica y Parinacota' , 'Valparaiso' , 'Atacama' , 'Antofagasta' , 'Tarapaca' , 'Coquimbo' , 'De La Araucania' , 'Metropolitana de Santiago' , 'Del Libertador Gral. Bernardo O\\'Higgins' , 'Del Maule' , 'De Nuble' , 'Del Biobio' , 'De Los Lagos' , 'De Los Rios' , 'Aisen del Gral. Carlos Ibanez del Campo' , 'Magallanes y de la Antartica Chilena']\n",
    "zona = regiones[11]\n",
    "print(zona)"
   ]
  },
  {
   "cell_type": "code",
   "execution_count": 38,
   "metadata": {},
   "outputs": [
    {
     "name": "stdout",
     "output_type": "stream",
     "text": [
      "Del Biobio\n"
     ]
    }
   ],
   "source": [
    "print(regiones[11])"
   ]
  },
  {
   "cell_type": "markdown",
   "metadata": {},
   "source": [
    "Filtro de estaciones: Por region y y fecha de creación."
   ]
  },
  {
   "cell_type": "code",
   "execution_count": 39,
   "metadata": {},
   "outputs": [],
   "source": [
    "#tipo_estacion = catastro[catastro['Clasificacion'] == 'Climatologica']\n",
    "creacion = catastro[catastro['Fecha Creacion'] <= '2010-01-01']\n",
    "region_estacion = creacion[creacion['Region'] == zona]\n",
    "estaciones_final = region_estacion['Codigo Nacional'].astype(str)"
   ]
  },
  {
   "cell_type": "code",
   "execution_count": 40,
   "metadata": {},
   "outputs": [],
   "source": [
    "est = estaciones_final.to_list()\n",
    "fichero = []"
   ]
  },
  {
   "cell_type": "code",
   "execution_count": 41,
   "metadata": {},
   "outputs": [],
   "source": [
    "for i in range(len(est)):\n",
    "    fichero.append('datosPrecipitaciones/' + est[i] + '/')"
   ]
  },
  {
   "cell_type": "markdown",
   "metadata": {},
   "source": [
    "Fix estaciones faltantes: A continuación el programa requiere que existan las carpetas de datos de las estaciones filtradas. \n",
    "No importa si están vacías."
   ]
  },
  {
   "cell_type": "code",
   "execution_count": 42,
   "metadata": {},
   "outputs": [],
   "source": [
    "for i in range(len(fichero)):\n",
    "    os.makedirs(fichero[i], exist_ok = True)"
   ]
  },
  {
   "cell_type": "code",
   "execution_count": 43,
   "metadata": {},
   "outputs": [],
   "source": [
    "for n in range(len(est)):\n",
    "    data = sorted(os.listdir(fichero[n]))\n",
    "    if len(data) > 0:\n",
    "        resumen = pd.read_csv(fichero[n]+data[0])\n",
    "\n",
    "        resumen.rename(columns={'Año' : 'Annio','Día' : 'Dia', 'T. Mínima' : 'Tminima', 'T. Máxima': 'Tmaxima', 'Media Climatológica' : 'MediaClimatologica', 'Media Aritmética':'MediaAritmetica'}, inplace=True)\n",
    "\n",
    "        for b in range(1,len(data)):\n",
    "            holder = pd.read_csv(fichero[n] + data[b])\n",
    "            holder.rename(columns={'Año' : 'Annio','Día' : 'Dia', 'T. Mínima' : 'Tminima', 'T. Máxima': 'Tmaxima', 'Media Climatológica' : 'MediaClimatologica', 'Media Aritmética':'MediaAritmetica'}, inplace=True)\n",
    "            resumen = pd.concat((resumen, holder))\n",
    "\n",
    "        os.makedirs('precipit'+zona,exist_ok=True)\n",
    "        resumen.to_csv('precipit'+zona+'/'+est[n]+'.csv', index=False)\n",
    "    else:\n",
    "        pass"
   ]
  },
  {
   "cell_type": "code",
   "execution_count": null,
   "metadata": {},
   "outputs": [],
   "source": [
    "for n in range(len(regiones)):\n",
    "    data = sorted(os.listdir('precipit'+regiones[n]))\n",
    "    step1 = pd.read_csv('precipit'+regiones[n]+'/'+data[0])\n",
    "    for b in range(1,len(data)):\n",
    "        holder = pd.read_csv('precipit'+regiones[n]+'/'+data[b])\n",
    "        step1 = pd.concat((step1,holder))\n",
    "\n",
    "    os.makedirs('Datos_precipit_regionales/',exist_ok=True)\n",
    "    step1.to_csv('Datos_precipit_regionales/'+regiones[n]+'.csv', index=False)"
   ]
  }
 ],
 "metadata": {
  "kernelspec": {
   "display_name": "Python 3",
   "language": "python",
   "name": "python3"
  },
  "language_info": {
   "codemirror_mode": {
    "name": "ipython",
    "version": 3
   },
   "file_extension": ".py",
   "mimetype": "text/x-python",
   "name": "python",
   "nbconvert_exporter": "python",
   "pygments_lexer": "ipython3",
   "version": "3.6.15"
  },
  "orig_nbformat": 4
 },
 "nbformat": 4,
 "nbformat_minor": 2
}
