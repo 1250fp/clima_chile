{
 "cells": [
  {
   "cell_type": "code",
   "execution_count": 1,
   "metadata": {},
   "outputs": [],
   "source": [
    "import pandas as pd\n",
    "import os"
   ]
  },
  {
   "cell_type": "markdown",
   "metadata": {},
   "source": [
    "Selección de estaciones"
   ]
  },
  {
   "cell_type": "code",
   "execution_count": 2,
   "metadata": {},
   "outputs": [],
   "source": [
    "catastro = pd.read_csv('CatastroEstaciones.csv' , parse_dates=['Fecha Creacion'], dayfirst=True)"
   ]
  },
  {
   "cell_type": "code",
   "execution_count": 3,
   "metadata": {},
   "outputs": [
    {
     "name": "stdout",
     "output_type": "stream",
     "text": [
      "Arica y Parinacota\n"
     ]
    }
   ],
   "source": [
    "regiones = ['Arica y Parinacota' , 'Valparaiso' , 'Atacama' , 'Antofagasta' , 'Tarapaca' , 'Coquimbo' , 'De La Araucania' , 'Metropolitana de Santiago' , 'Del Libertador Gral. Bernardo O\\'Higgins' , 'Del Maule' , 'De Nuble' , 'Del Biobio' , 'De Los Lagos' , 'De Los Rios' , 'Aisen del Gral. Carlos Ibanez del Campo' , 'Magallanes y de la Antartica Chilena']\n",
    "zona = regiones[0]\n",
    "print(zona)"
   ]
  },
  {
   "cell_type": "code",
   "execution_count": 4,
   "metadata": {},
   "outputs": [],
   "source": [
    "#tipo_estacion = catastro[catastro['Clasificacion'] == 'Climatologica']\n",
    "creacion = catastro[catastro['Fecha Creacion'] <= '2010-01-01']\n",
    "region_estacion = creacion[creacion['Region'] == zona]\n",
    "estaciones_final = region_estacion['Codigo Nacional'].astype(str)"
   ]
  },
  {
   "cell_type": "code",
   "execution_count": 5,
   "metadata": {},
   "outputs": [],
   "source": [
    "est = estaciones_final.to_list()\n",
    "fichero = []"
   ]
  },
  {
   "cell_type": "code",
   "execution_count": 6,
   "metadata": {},
   "outputs": [],
   "source": [
    "for i in range(len(est)):\n",
    "    fichero.append('datosTemperatura/' + est[i] + '/')\n",
    "    "
   ]
  },
  {
   "cell_type": "markdown",
   "metadata": {},
   "source": [
    "Fix estaciones faltantes. En un programa posterior se podrá obtener con exactitud cuales son."
   ]
  },
  {
   "cell_type": "code",
   "execution_count": 7,
   "metadata": {},
   "outputs": [],
   "source": [
    "for i in range(len(fichero)):\n",
    "    os.makedirs(fichero[i], exist_ok = True)"
   ]
  },
  {
   "cell_type": "code",
   "execution_count": 8,
   "metadata": {},
   "outputs": [],
   "source": [
    "for n in range(len(est)):\n",
    "    data = sorted(os.listdir(fichero[n]))\n",
    "    if len(data) > 0:\n",
    "        resumen = pd.read_csv(fichero[n]+data[0])\n",
    "\n",
    "        resumen.rename(columns={'Año' : 'Annio','Día' : 'Dia', 'T. Mínima' : 'Tminima', 'T. Máxima': 'Tmaxima', 'Media Climatológica' : 'MediaClimatologica', 'Media Aritmética':'MediaAritmetica'}, inplace=True)\n",
    "\n",
    "        for b in range(1,len(data)):\n",
    "            holder = pd.read_csv(fichero[n] + data[b])\n",
    "            holder.rename(columns={'Año' : 'Annio','Día' : 'Dia', 'T. Mínima' : 'Tminima', 'T. Máxima': 'Tmaxima', 'Media Climatológica' : 'MediaClimatologica', 'Media Aritmética':'MediaAritmetica'}, inplace=True)\n",
    "            resumen = pd.concat((resumen, holder))\n",
    "\n",
    "        os.makedirs('temp'+zona,exist_ok=True)\n",
    "        resumen.to_csv('temp'+zona+'/'+est[n]+'.csv', index=False)\n",
    "    else:\n",
    "        pass"
   ]
  },
  {
   "cell_type": "code",
   "execution_count": null,
   "metadata": {},
   "outputs": [],
   "source": [
    "for n in range(len(regiones)):\n",
    "    data = sorted(os.listdir('temp'+regiones[n]))\n",
    "    step1 = pd.read_csv('temp'+regiones[n]+'/'+data[0])\n",
    "    for b in range(1,len(data)):\n",
    "        holder = pd.read_csv('temp'+regiones[n]+'/'+data[b])\n",
    "        step1 = pd.concat((step1,holder))\n",
    "\n",
    "    os.makedirs('Datos_temp_regionales/',exist_ok=True)\n",
    "    step1.to_csv('Datos_temp_regionales/'+regiones[n]+'.csv', index=False)"
   ]
  }
 ],
 "metadata": {
  "kernelspec": {
   "display_name": "Python 3",
   "language": "python",
   "name": "python3"
  },
  "orig_nbformat": 4
 },
 "nbformat": 4,
 "nbformat_minor": 2
}
