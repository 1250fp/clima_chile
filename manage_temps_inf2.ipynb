{
 "cells": [
  {
   "cell_type": "code",
   "execution_count": null,
   "metadata": {},
   "outputs": [],
   "source": [
    "import pandas as pd\n",
    "import matplotlib.pyplot as plt\n",
    "import numpy as np\n",
    "import os"
   ]
  },
  {
   "cell_type": "markdown",
   "metadata": {},
   "source": [
    "Selección de estaciones"
   ]
  },
  {
   "cell_type": "code",
   "execution_count": null,
   "metadata": {},
   "outputs": [],
   "source": [
    "catastro = pd.read_csv('CatastroEstaciones.csv' , parse_dates=['Fecha Creacion'], dayfirst=True)"
   ]
  },
  {
   "cell_type": "code",
   "execution_count": null,
   "metadata": {},
   "outputs": [],
   "source": [
    "zona = 'Arica y Parinacota' #'Valparaiso' #'Atacama' 'Antofagasta' 'Tarapaca' "
   ]
  },
  {
   "cell_type": "code",
   "execution_count": null,
   "metadata": {},
   "outputs": [],
   "source": [
    "tipo_estacion = catastro[catastro['Clasificacion'] == 'Climatologica']\n",
    "creacion = tipo_estacion[tipo_estacion['Fecha Creacion'] <= '2010-01-01']\n",
    "region_estacion = creacion[creacion['Region'] == zona]\n",
    "estaciones_final = region_estacion['Codigo Nacional'].astype(str)"
   ]
  },
  {
   "cell_type": "code",
   "execution_count": null,
   "metadata": {},
   "outputs": [],
   "source": [
    "est = estaciones_final.to_list()\n",
    "fichero = []"
   ]
  },
  {
   "cell_type": "code",
   "execution_count": null,
   "metadata": {},
   "outputs": [],
   "source": [
    "for i in range(len(est)):\n",
    "    fichero.append('datosTemperatura/' + est[i] + '/')\n",
    "    "
   ]
  },
  {
   "cell_type": "markdown",
   "metadata": {},
   "source": [
    "Fix estaciones faltantes. En un programa posterior se podrá obtener con exactitud cuales son."
   ]
  },
  {
   "cell_type": "code",
   "execution_count": null,
   "metadata": {},
   "outputs": [],
   "source": [
    "for i in range(len(fichero)):\n",
    "    os.makedirs(fichero[i], exist_ok = True)"
   ]
  },
  {
   "cell_type": "code",
   "execution_count": null,
   "metadata": {},
   "outputs": [],
   "source": [
    "for n in range(len(est)):\n",
    "    data = sorted(os.listdir(fichero[n]))\n",
    "    resumen = pd.read_csv(fichero[n]+data[0],header=['Annio', 'Mes', 'Dia', 'Tminima', 'Tmaxima', 'MediaClimatologia', 'MediaAritmetica', 'Datos'] ,skiprows=1)\n",
    "\n",
    "    for b in range(1,len(data)):\n",
    "        holder = pd.read_csv(fichero[n] + data[b])\n",
    "        resumen = pd.concat((resumen, holder))\n",
    "\n",
    "    os.makedirs('temp'+zona,exist_ok=True)\n",
    "    resumen.to_csv('temp'+zona+'/'+est[n]+'.csv', index=False)"
   ]
  }
 ],
 "metadata": {
  "kernelspec": {
   "display_name": "Python 3",
   "language": "python",
   "name": "python3"
  },
  "language_info": {
   "codemirror_mode": {
    "name": "ipython",
    "version": 3
   },
   "file_extension": ".py",
   "mimetype": "text/x-python",
   "name": "python",
   "nbconvert_exporter": "python",
   "pygments_lexer": "ipython3",
   "version": "3.6.15"
  },
  "orig_nbformat": 4
 },
 "nbformat": 4,
 "nbformat_minor": 2
}
